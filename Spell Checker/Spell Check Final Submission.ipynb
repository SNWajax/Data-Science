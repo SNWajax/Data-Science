{
 "cells": [
  {
   "cell_type": "code",
   "execution_count": 37,
   "metadata": {},
   "outputs": [
    {
     "name": "stdout",
     "output_type": "stream",
     "text": [
      "Populating the interactive namespace from numpy and matplotlib\n"
     ]
    }
   ],
   "source": [
    "%pylab inline\n",
    "import re\n",
    "import math\n",
    "import string\n",
    "from collections import Counter\n",
    "from __future__ import division"
   ]
  },
  {
   "cell_type": "code",
   "execution_count": 38,
   "metadata": {
    "collapsed": true
   },
   "outputs": [],
   "source": [
    "lines = open('spell-errors.txt').read().splitlines() #read all the words from big.txt"
   ]
  },
  {
   "cell_type": "code",
   "execution_count": 39,
   "metadata": {
    "collapsed": true
   },
   "outputs": [],
   "source": [
    "dicti = {}"
   ]
  },
  {
   "cell_type": "code",
   "execution_count": 40,
   "metadata": {},
   "outputs": [
    {
     "name": "stdout",
     "output_type": "stream",
     "text": [
      "1\n"
     ]
    }
   ],
   "source": [
    "def edit_distance(s1, s2):\n",
    "   m=len(s1)+1\n",
    "   n=len(s2)+1\n",
    "\n",
    "   tbl = {}\n",
    "   for i in range(m): tbl[i,0]=i\n",
    "   for j in range(n): tbl[0,j]=j\n",
    "   for i in range(1, m):\n",
    "       for j in range(1, n):\n",
    "           cost = 0 if s1[i-1] == s2[j-1] else 1\n",
    "           tbl[i,j] = min(tbl[i, j-1]+1, tbl[i-1, j]+1, tbl[i-1, j-1]+cost)\n",
    "\n",
    "   return tbl[i,j]\n",
    "\n",
    "print(edit_distance(\"ordinary\", \"ordenary\"))"
   ]
  },
  {
   "cell_type": "code",
   "execution_count": 41,
   "metadata": {
    "collapsed": true
   },
   "outputs": [],
   "source": [
    "import csv\n",
    "w = csv.writer(open(\"dicti.csv\", \"w\"))\n",
    "for key, val in dicti.items():\n",
    "    w.writerow([key, val])"
   ]
  },
  {
   "cell_type": "code",
   "execution_count": 42,
   "metadata": {},
   "outputs": [
    {
     "data": {
      "text/plain": [
       "6488666"
      ]
     },
     "execution_count": 42,
     "metadata": {},
     "output_type": "execute_result"
    }
   ],
   "source": [
    "TEXT = open('big.txt').read() #read all the words from big.txt\n",
    "len(TEXT)"
   ]
  },
  {
   "cell_type": "code",
   "execution_count": 43,
   "metadata": {
    "collapsed": true
   },
   "outputs": [],
   "source": [
    "#we use re package to filter out unnecessary characters, tokenize the words and convert it to lower case\n",
    "def tokens(text):\n",
    "    return re.findall('[a-z]+', text.lower()) "
   ]
  },
  {
   "cell_type": "code",
   "execution_count": 44,
   "metadata": {},
   "outputs": [
    {
     "data": {
      "text/plain": [
       "1105285"
      ]
     },
     "execution_count": 44,
     "metadata": {},
     "output_type": "execute_result"
    }
   ],
   "source": [
    "WORDS = tokens(TEXT)\n",
    "len(WORDS)"
   ]
  },
  {
   "cell_type": "code",
   "execution_count": 45,
   "metadata": {},
   "outputs": [
    {
     "name": "stdout",
     "output_type": "stream",
     "text": [
      "[('the', 80030), ('of', 40025), ('and', 38313), ('to', 28766), ('in', 22050), ('a', 21155), ('that', 12512), ('he', 12401), ('was', 11410), ('it', 10681)]\n",
      "38313\n"
     ]
    }
   ],
   "source": [
    "COUNTS = Counter(WORDS)\n",
    "print(COUNTS.most_common(10))\n",
    "print(COUNTS.get('and'))"
   ]
  },
  {
   "cell_type": "code",
   "execution_count": 46,
   "metadata": {},
   "outputs": [],
   "source": [
    "for line in lines:\n",
    "    word = line.split(':')\n",
    "    cword = word[0].strip()\n",
    "    wwords = word[1].split(',')\n",
    "    for wword in wwords:\n",
    "        if wword.strip() in dicti:\n",
    "            costold = edit_distance(wword.strip(), dicti.get(wword.strip()))\n",
    "            costnew = edit_distance(wword.strip(), cword)\n",
    "            if costnew < costold:\n",
    "                dicti[wword.strip()] = cword\n",
    "            elif costold == costnew:\n",
    "                cnt1 = COUNTS.get(cword)\n",
    "                cnt2 = COUNTS.get(dicti.get(wword.strip()))\n",
    "                if cnt1 and cnt2:\n",
    "                    if cnt1 > cnt2:\n",
    "                        dicti[wword.strip()] = cword\n",
    "        else:\n",
    "            dicti[wword.strip()] = cword"
   ]
  },
  {
   "cell_type": "code",
   "execution_count": 47,
   "metadata": {},
   "outputs": [
    {
     "data": {
      "text/plain": [
       "37458"
      ]
     },
     "execution_count": 47,
     "metadata": {},
     "output_type": "execute_result"
    }
   ],
   "source": [
    "len(dicti)"
   ]
  },
  {
   "cell_type": "code",
   "execution_count": 48,
   "metadata": {
    "collapsed": true
   },
   "outputs": [],
   "source": [
    "def correct(word):\n",
    "    #Generating all the words with edit distance of 0, 1 & 2\n",
    "    candidates = (known(edits0(word)) or \n",
    "                  known(edits1(word)) or \n",
    "                  known(edits2(word)) or \n",
    "                  [word])\n",
    "    return max(candidates, key=COUNTS.get)"
   ]
  },
  {
   "cell_type": "code",
   "execution_count": 49,
   "metadata": {
    "collapsed": true
   },
   "outputs": [],
   "source": [
    "def known(words):\n",
    "    #Return the subset of words that are actually in the dictionary.\"\n",
    "    return {w for w in words if w in COUNTS}\n",
    "\n",
    "def edits0(word): \n",
    "    return {word}\n",
    "\n",
    "def edits2(word):\n",
    "    return {e2 for e1 in edits1(word) for e2 in edits1(e1)}"
   ]
  },
  {
   "cell_type": "code",
   "execution_count": 50,
   "metadata": {
    "collapsed": true
   },
   "outputs": [],
   "source": [
    "def edits1(word):\n",
    "    pairs      = splits(word)\n",
    "    deletes    = [a+b[1:]           for (a, b) in pairs if b]\n",
    "    transposes = [a+b[1]+b[0]+b[2:] for (a, b) in pairs if len(b) > 1]\n",
    "    replaces   = [a+c+b[1:]         for (a, b) in pairs for c in alphabet if b]\n",
    "    inserts    = [a+c+b             for (a, b) in pairs for c in alphabet]\n",
    "    return set(deletes + transposes + replaces + inserts)\n",
    "\n",
    "def splits(word):\n",
    "    return [(word[:i], word[i:]) \n",
    "            for i in range(len(word)+1)]\n",
    "\n",
    "alphabet = 'abcdefghijklmnopqrstuvwxyz'"
   ]
  },
  {
   "cell_type": "code",
   "execution_count": 51,
   "metadata": {
    "collapsed": true
   },
   "outputs": [],
   "source": [
    "def correct_text(text):\n",
    "    return re.sub('[a-zA-Z]+', correct_match, text)\n",
    "\n",
    "def correct_match(match):\n",
    "    word = match.group()\n",
    "    return case_of(word)(correct(word.lower()))\n",
    "\n",
    "def case_of(text):\n",
    "    return (str.upper if text.isupper() else\n",
    "            str.lower if text.islower() else\n",
    "            str.title if text.istitle() else\n",
    "            str)"
   ]
  },
  {
   "cell_type": "code",
   "execution_count": 52,
   "metadata": {},
   "outputs": [
    {
     "data": {
      "text/plain": [
       "504"
      ]
     },
     "execution_count": 52,
     "metadata": {},
     "output_type": "execute_result"
    }
   ],
   "source": [
    "import pandas as pd\n",
    "\n",
    "DF = pd.read_csv('test.csv')\n",
    "len(DF)"
   ]
  },
  {
   "cell_type": "code",
   "execution_count": null,
   "metadata": {
    "collapsed": true
   },
   "outputs": [],
   "source": []
  },
  {
   "cell_type": "code",
   "execution_count": 53,
   "metadata": {},
   "outputs": [
    {
     "data": {
      "text/html": [
       "<div>\n",
       "<style>\n",
       "    .dataframe thead tr:only-child th {\n",
       "        text-align: right;\n",
       "    }\n",
       "\n",
       "    .dataframe thead th {\n",
       "        text-align: left;\n",
       "    }\n",
       "\n",
       "    .dataframe tbody tr th {\n",
       "        vertical-align: top;\n",
       "    }\n",
       "</style>\n",
       "<table border=\"1\" class=\"dataframe\">\n",
       "  <thead>\n",
       "    <tr style=\"text-align: right;\">\n",
       "      <th></th>\n",
       "      <th>ID</th>\n",
       "      <th>WRONG</th>\n",
       "    </tr>\n",
       "  </thead>\n",
       "  <tbody>\n",
       "    <tr>\n",
       "      <th>0</th>\n",
       "      <td>0</td>\n",
       "      <td>contenpted</td>\n",
       "    </tr>\n",
       "    <tr>\n",
       "      <th>1</th>\n",
       "      <td>1</td>\n",
       "      <td>begining</td>\n",
       "    </tr>\n",
       "    <tr>\n",
       "      <th>2</th>\n",
       "      <td>2</td>\n",
       "      <td>problam</td>\n",
       "    </tr>\n",
       "    <tr>\n",
       "      <th>3</th>\n",
       "      <td>3</td>\n",
       "      <td>dirven</td>\n",
       "    </tr>\n",
       "    <tr>\n",
       "      <th>4</th>\n",
       "      <td>4</td>\n",
       "      <td>exstacy</td>\n",
       "    </tr>\n",
       "  </tbody>\n",
       "</table>\n",
       "</div>"
      ],
      "text/plain": [
       "   ID       WRONG\n",
       "0   0  contenpted\n",
       "1   1    begining\n",
       "2   2     problam\n",
       "3   3      dirven\n",
       "4   4     exstacy"
      ]
     },
     "execution_count": 53,
     "metadata": {},
     "output_type": "execute_result"
    }
   ],
   "source": [
    "DF.head()"
   ]
  },
  {
   "cell_type": "code",
   "execution_count": 54,
   "metadata": {},
   "outputs": [
    {
     "name": "stdout",
     "output_type": "stream",
     "text": [
      "504\n"
     ]
    }
   ],
   "source": [
    "X = DF.iloc[:,1].values\n",
    "print(len(X))"
   ]
  },
  {
   "cell_type": "code",
   "execution_count": 55,
   "metadata": {
    "collapsed": true
   },
   "outputs": [],
   "source": [
    "def tofind(word):\n",
    "    answer = dicti.get(word.strip(),'hi')\n",
    "    if answer == 'hi':\n",
    "        answer = correct(word)\n",
    "    return answer"
   ]
  },
  {
   "cell_type": "code",
   "execution_count": 56,
   "metadata": {
    "collapsed": true
   },
   "outputs": [],
   "source": [
    "Y = list(map(tofind, X))"
   ]
  },
  {
   "cell_type": "code",
   "execution_count": 57,
   "metadata": {},
   "outputs": [
    {
     "data": {
      "text/plain": [
       "['contented',\n",
       " 'looking',\n",
       " 'problem',\n",
       " 'driven',\n",
       " 'ecstasy',\n",
       " 'juice',\n",
       " 'locally',\n",
       " 'compare',\n",
       " 'pronunciation',\n",
       " 'transportability',\n",
       " 'miniscule',\n",
       " 'independent',\n",
       " 'arranged',\n",
       " 'poetry',\n",
       " 'level',\n",
       " 'basically',\n",
       " 'triangular',\n",
       " 'unexpected',\n",
       " 'standardizing',\n",
       " 'variable',\n",
       " 'further',\n",
       " 'monitoring',\n",
       " 'biscuits',\n",
       " 'available',\n",
       " 'separate',\n",
       " 'necessary',\n",
       " 'definition',\n",
       " 'receipt',\n",
       " 'remind',\n",
       " 'initials',\n",
       " 'magnificent',\n",
       " 'aunt',\n",
       " 'initial',\n",
       " 'the',\n",
       " 'experiences',\n",
       " 'built',\n",
       " 'totally',\n",
       " 'understand',\n",
       " 'southern',\n",
       " 'definitely',\n",
       " 'visited',\n",
       " 'voluntary',\n",
       " 'meant',\n",
       " 'receive',\n",
       " 'sources',\n",
       " 'whether',\n",
       " 'useful',\n",
       " 'literature',\n",
       " 'valuable',\n",
       " 'delicate',\n",
       " 'clerical',\n",
       " 'splendid',\n",
       " 'between',\n",
       " 'completely',\n",
       " 'account',\n",
       " 'cemetery',\n",
       " 'special',\n",
       " 'latest',\n",
       " 'perhaps',\n",
       " 'remember',\n",
       " 'chapter',\n",
       " 'cake',\n",
       " 'various',\n",
       " 'february',\n",
       " 'pretend',\n",
       " 'choosing',\n",
       " 'rota',\n",
       " 'particular',\n",
       " 'awful',\n",
       " 'arrangement',\n",
       " 'challenges',\n",
       " 'laugh',\n",
       " 'often',\n",
       " 'someone',\n",
       " 'personnel',\n",
       " 'unique',\n",
       " 'diagrammatically',\n",
       " 'description',\n",
       " 'poems',\n",
       " 'purple',\n",
       " 'decide',\n",
       " 'articles',\n",
       " 'position',\n",
       " 'extended',\n",
       " 'hierarchical',\n",
       " 'ready',\n",
       " 'voting',\n",
       " 'committed',\n",
       " 'wanted',\n",
       " 'benefits',\n",
       " 'definitions',\n",
       " 'scissors',\n",
       " 'levels',\n",
       " 'parallel',\n",
       " 'accommodation',\n",
       " 'planted',\n",
       " 'hierarchy',\n",
       " 'transferred',\n",
       " 'minutes',\n",
       " 'arranging',\n",
       " 'accessing',\n",
       " 'stomach',\n",
       " 'unfortunately',\n",
       " 'considerable',\n",
       " 'access',\n",
       " 'singular',\n",
       " 'scarcely',\n",
       " 'questionnaire',\n",
       " 'experience',\n",
       " 'possible',\n",
       " 'refreshment',\n",
       " 'embargo',\n",
       " 'visitors',\n",
       " 'auxiliary',\n",
       " 'decided',\n",
       " 'benefit',\n",
       " 'consider',\n",
       " 'fails',\n",
       " 'career',\n",
       " 'occurrence',\n",
       " 'certain',\n",
       " 'poems',\n",
       " 'lieu',\n",
       " 'establishing',\n",
       " 'different',\n",
       " 'loans',\n",
       " 'extremely',\n",
       " 'addresable',\n",
       " 'gallery',\n",
       " 'centrally',\n",
       " 'families',\n",
       " 'bicycle',\n",
       " 'choice',\n",
       " 'opposite',\n",
       " 'curtains',\n",
       " 'dress',\n",
       " 'liaison',\n",
       " 'management',\n",
       " 'inconvenient',\n",
       " 'variant',\n",
       " 'supersede',\n",
       " 'appeal',\n",
       " 'employees',\n",
       " 'encourage',\n",
       " 'permanent',\n",
       " 'mathematically',\n",
       " 'data',\n",
       " 'permanently',\n",
       " 'hierarchical',\n",
       " 'proviso',\n",
       " 'moving',\n",
       " 'allow',\n",
       " 'credit',\n",
       " 'available',\n",
       " 'traditional',\n",
       " 'adaptable',\n",
       " 'ladder',\n",
       " 'graphically',\n",
       " 'eventually',\n",
       " 'doubt',\n",
       " 'academically',\n",
       " 'subsequent',\n",
       " 'misleading',\n",
       " 'ordinary',\n",
       " 'associated',\n",
       " 'voluntary',\n",
       " 'enormously',\n",
       " 'table',\n",
       " 'useful',\n",
       " 'thermawear',\n",
       " 'pleasant',\n",
       " 'between',\n",
       " 'appreciation',\n",
       " 'accept',\n",
       " 'suffering',\n",
       " 'comparison',\n",
       " 'majority',\n",
       " 'umbrella',\n",
       " 'discipline',\n",
       " 'arrangement',\n",
       " 'prepared',\n",
       " 'sufficient',\n",
       " 'weighted',\n",
       " 'orientated',\n",
       " 'input',\n",
       " 'pivoting',\n",
       " 'profit',\n",
       " 'agencies',\n",
       " 'accumulated',\n",
       " 'manually',\n",
       " 'representative',\n",
       " 'employed',\n",
       " 'continued',\n",
       " 'dragged',\n",
       " 'unresolved',\n",
       " 'compared',\n",
       " 'now',\n",
       " 'announcing',\n",
       " 'unequalled',\n",
       " 'currently',\n",
       " 'titles',\n",
       " 'reaching',\n",
       " 'approached',\n",
       " 'suggestion',\n",
       " 'availability',\n",
       " 'dissension',\n",
       " 'cancellation',\n",
       " 'transactions',\n",
       " 'belief',\n",
       " 'operations',\n",
       " 'resulting',\n",
       " 'decides',\n",
       " 'unequivocally',\n",
       " 'minutes',\n",
       " 'understandable',\n",
       " 'dependence',\n",
       " 'supposedly',\n",
       " 'subtract',\n",
       " 'sheets',\n",
       " 'consist',\n",
       " 'immediately',\n",
       " 'exponentially',\n",
       " 'overall',\n",
       " 'indeed',\n",
       " 'separated',\n",
       " 'length',\n",
       " 'family',\n",
       " 'necessitates',\n",
       " 'described',\n",
       " 'primarily',\n",
       " 'suggested',\n",
       " 'possibilities',\n",
       " 'building',\n",
       " 'universally',\n",
       " 'unnecessarily',\n",
       " 'looking',\n",
       " 'and',\n",
       " 'comments',\n",
       " 'the',\n",
       " 'declarations',\n",
       " 'supervision',\n",
       " 'questionnaire',\n",
       " 'develop',\n",
       " 'unavailable',\n",
       " 'appointments',\n",
       " 'variable',\n",
       " 'repetitive',\n",
       " 'equalled',\n",
       " 'bonus',\n",
       " 'demands',\n",
       " 'scrutinized',\n",
       " 'recently',\n",
       " 'clerk',\n",
       " 'adequate',\n",
       " 'feeling',\n",
       " 'familiar',\n",
       " 'accepted',\n",
       " 'accessing',\n",
       " 'separation',\n",
       " 'inquiries',\n",
       " 'receiving',\n",
       " 'procedure',\n",
       " 'conceived',\n",
       " 'generated',\n",
       " 'flexible',\n",
       " 'analysis',\n",
       " 'particularly',\n",
       " 'routine',\n",
       " 'nature',\n",
       " 'gaining',\n",
       " 'geneva',\n",
       " 'interesting',\n",
       " 'surroundings',\n",
       " 'opportunity',\n",
       " 'functionally',\n",
       " 'together',\n",
       " 'approach',\n",
       " 'scheme',\n",
       " 'occurred',\n",
       " 'profession',\n",
       " 'recommended',\n",
       " 'examine',\n",
       " 'there',\n",
       " 'readjusted',\n",
       " 'build',\n",
       " 'organization',\n",
       " 'university',\n",
       " 'utilized',\n",
       " 'obtaining',\n",
       " 'commercial',\n",
       " 'embellishing',\n",
       " 'description',\n",
       " 'edition',\n",
       " 'forbidden',\n",
       " 'applicable',\n",
       " 'committed',\n",
       " 'search',\n",
       " 'necessity',\n",
       " 'similar',\n",
       " 'luckily',\n",
       " 'econometric',\n",
       " 'again',\n",
       " 'patterns',\n",
       " 'analysing',\n",
       " 'variety',\n",
       " 'widely',\n",
       " 'arrangements',\n",
       " 'challenge',\n",
       " 'fourth',\n",
       " 'accounts',\n",
       " 'politics',\n",
       " 'decision',\n",
       " 'since',\n",
       " 'beneficial',\n",
       " 'arguing',\n",
       " 'continually',\n",
       " 'acquaintances',\n",
       " 'extremely',\n",
       " 'excessively',\n",
       " 'composed',\n",
       " 'seen',\n",
       " 'nationally',\n",
       " 'source',\n",
       " 'months',\n",
       " 'progresses',\n",
       " 'were',\n",
       " 'brief',\n",
       " 'matrix',\n",
       " 'visitor',\n",
       " 'adequately',\n",
       " 'security',\n",
       " 'successive',\n",
       " 'consisting',\n",
       " 'per',\n",
       " 'commit',\n",
       " 'except',\n",
       " 'conversely',\n",
       " 'decisions',\n",
       " 'union',\n",
       " 'when',\n",
       " 'shown',\n",
       " 'will',\n",
       " 'suited',\n",
       " 'necessary',\n",
       " 'essential',\n",
       " 'government',\n",
       " 'unnecessary',\n",
       " 'disaggregate',\n",
       " 'argument',\n",
       " 'choices',\n",
       " 'conference',\n",
       " 'preceding',\n",
       " 'profits',\n",
       " 'apparent',\n",
       " 'ideally',\n",
       " 'ability',\n",
       " 'responsibilities',\n",
       " 'are',\n",
       " 'many',\n",
       " 'surveying',\n",
       " 'provide',\n",
       " 'within',\n",
       " 'session',\n",
       " 'false',\n",
       " 'anal',\n",
       " 'summaries',\n",
       " 'reference',\n",
       " 'employment',\n",
       " 'it',\n",
       " 'particular',\n",
       " 'surrounding',\n",
       " 'chosen',\n",
       " 'journalism',\n",
       " 'annoying',\n",
       " 'expense',\n",
       " 'receive',\n",
       " 'however',\n",
       " 'supplementary',\n",
       " 'virtually',\n",
       " 'forecast',\n",
       " 'hierarchy',\n",
       " 'combine',\n",
       " 'requested',\n",
       " 'desperately',\n",
       " 'appreciated',\n",
       " 'safeguard',\n",
       " 'shortened',\n",
       " 'confirmation',\n",
       " 'advantageous',\n",
       " 'these',\n",
       " 'before',\n",
       " 'progression',\n",
       " 'component',\n",
       " 'numbers',\n",
       " 'adjournment',\n",
       " 'accrued',\n",
       " 'opinion',\n",
       " 'advise',\n",
       " 'career',\n",
       " 'resolved',\n",
       " 'accessibility',\n",
       " 'negligible',\n",
       " 'students',\n",
       " 'favourable',\n",
       " 'techniques',\n",
       " 'atmosphere',\n",
       " 'exactly',\n",
       " 'especially',\n",
       " 'proportions',\n",
       " 'geographically',\n",
       " 'encompassing',\n",
       " 'stopped',\n",
       " 'relevant',\n",
       " 'that',\n",
       " 'applied',\n",
       " 'eliminated',\n",
       " 'containing',\n",
       " 'conditioning',\n",
       " 'successful',\n",
       " 'queries',\n",
       " 'aggravating',\n",
       " 'erroneous',\n",
       " 'weapons',\n",
       " 'corporate',\n",
       " 'inconceivable',\n",
       " 'organized',\n",
       " 'sensible',\n",
       " 'studying',\n",
       " 'examination',\n",
       " 'analysis',\n",
       " 'lonely',\n",
       " 'interest',\n",
       " 'committees',\n",
       " 'explaining',\n",
       " 'humour',\n",
       " 'thoughts',\n",
       " 'timing',\n",
       " 'difficulty',\n",
       " 'careers',\n",
       " 'register',\n",
       " 'night',\n",
       " 'appointment',\n",
       " 'surveys',\n",
       " 'apologies',\n",
       " 'approximately',\n",
       " 'through',\n",
       " 'prior',\n",
       " 'executed',\n",
       " 'anomalies',\n",
       " 'relatively',\n",
       " 'announcement',\n",
       " 'accompanying',\n",
       " 'projects',\n",
       " 'analysed',\n",
       " 'therefore',\n",
       " 'parameters',\n",
       " 'whereas',\n",
       " 'the',\n",
       " 'discretion',\n",
       " 'handle',\n",
       " 'disappointing',\n",
       " 'expansion',\n",
       " 'personal',\n",
       " 'senior',\n",
       " 'apologized',\n",
       " 'separate',\n",
       " 'mean',\n",
       " 'guidelines',\n",
       " 'busy',\n",
       " 'easily',\n",
       " 'collate',\n",
       " 'system',\n",
       " 'speaking',\n",
       " 'interrogating',\n",
       " 'drastically',\n",
       " 'difficult',\n",
       " 'inefficient',\n",
       " 'operator',\n",
       " 'output',\n",
       " 'base',\n",
       " 'regained',\n",
       " 'controlled',\n",
       " 'offered',\n",
       " 'irrelevant',\n",
       " 'although',\n",
       " 'years',\n",
       " 'means',\n",
       " 'technique',\n",
       " 'neither',\n",
       " 'required',\n",
       " 'correspondence',\n",
       " 'interpretation',\n",
       " 'segment',\n",
       " 'throughout',\n",
       " 'qualities',\n",
       " 'financial',\n",
       " 'intelligence',\n",
       " 'receives',\n",
       " 'criticism',\n",
       " 'would',\n",
       " 'investigated',\n",
       " 'recommending',\n",
       " 'earliest',\n",
       " 'immediate']"
      ]
     },
     "execution_count": 57,
     "metadata": {},
     "output_type": "execute_result"
    }
   ],
   "source": [
    "Y"
   ]
  },
  {
   "cell_type": "code",
   "execution_count": 58,
   "metadata": {
    "collapsed": true
   },
   "outputs": [],
   "source": [
    "np.savetxt(r'C:\\Users\\Administrator\\IDS\\test folder\\npvabmix.txt', Y, fmt='%s')"
   ]
  }
 ],
 "metadata": {
  "kernelspec": {
   "display_name": "Python 3",
   "language": "python",
   "name": "python3"
  },
  "language_info": {
   "codemirror_mode": {
    "name": "ipython",
    "version": 3
   },
   "file_extension": ".py",
   "mimetype": "text/x-python",
   "name": "python",
   "nbconvert_exporter": "python",
   "pygments_lexer": "ipython3",
   "version": "3.6.1"
  }
 },
 "nbformat": 4,
 "nbformat_minor": 2
}
