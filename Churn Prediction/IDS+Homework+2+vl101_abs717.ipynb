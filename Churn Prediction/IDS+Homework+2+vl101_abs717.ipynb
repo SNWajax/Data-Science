{
 "cells": [
  {
   "cell_type": "code",
   "execution_count": 1,
   "metadata": {
    "collapsed": true
   },
   "outputs": [],
   "source": [
    "#do this only once\n",
    "import pandas as pd\n",
    "\n",
    "df = pd.read_csv('train.csv')\n",
    "dd = pd.get_dummies(df)\n",
    "dd.columns\n",
    "dd = dd[['INCOME', 'OVERAGE', 'LEFTOVER', 'HOUSE', 'HANDSET_PRICE',\n",
    "       'OVER_15MINS_CALLS_PER_MONTH', 'AVERAGE_CALL_DURATION',\n",
    "       'COLLEGE_one', 'COLLEGE_zero', 'REPORTED_SATISFACTION_avg',\n",
    "       'REPORTED_SATISFACTION_sat', 'REPORTED_SATISFACTION_unsat',\n",
    "       'REPORTED_SATISFACTION_very_sat', 'REPORTED_SATISFACTION_very_unsat',\n",
    "       'REPORTED_USAGE_LEVEL_avg', 'REPORTED_USAGE_LEVEL_high',\n",
    "       'REPORTED_USAGE_LEVEL_little', 'REPORTED_USAGE_LEVEL_very_high',\n",
    "       'REPORTED_USAGE_LEVEL_very_little',\n",
    "       'CONSIDERING_CHANGE_OF_PLAN_actively_looking_into_it',\n",
    "       'CONSIDERING_CHANGE_OF_PLAN_considering',\n",
    "       'CONSIDERING_CHANGE_OF_PLAN_never_thought',\n",
    "       'CONSIDERING_CHANGE_OF_PLAN_no', 'CONSIDERING_CHANGE_OF_PLAN_perhaps', 'LEAVE']]\n",
    "\n",
    "dd.to_csv('trainnew.csv', index = False)"
   ]
  },
  {
   "cell_type": "code",
   "execution_count": 2,
   "metadata": {},
   "outputs": [
    {
     "data": {
      "text/html": [
       "<div>\n",
       "<style>\n",
       "    .dataframe thead tr:only-child th {\n",
       "        text-align: right;\n",
       "    }\n",
       "\n",
       "    .dataframe thead th {\n",
       "        text-align: left;\n",
       "    }\n",
       "\n",
       "    .dataframe tbody tr th {\n",
       "        vertical-align: top;\n",
       "    }\n",
       "</style>\n",
       "<table border=\"1\" class=\"dataframe\">\n",
       "  <thead>\n",
       "    <tr style=\"text-align: right;\">\n",
       "      <th></th>\n",
       "      <th>COLLEGE</th>\n",
       "      <th>INCOME</th>\n",
       "      <th>OVERAGE</th>\n",
       "      <th>LEFTOVER</th>\n",
       "      <th>HOUSE</th>\n",
       "      <th>HANDSET_PRICE</th>\n",
       "      <th>OVER_15MINS_CALLS_PER_MONTH</th>\n",
       "      <th>AVERAGE_CALL_DURATION</th>\n",
       "      <th>REPORTED_SATISFACTION</th>\n",
       "      <th>REPORTED_USAGE_LEVEL</th>\n",
       "      <th>CONSIDERING_CHANGE_OF_PLAN</th>\n",
       "      <th>LEAVE</th>\n",
       "    </tr>\n",
       "  </thead>\n",
       "  <tbody>\n",
       "    <tr>\n",
       "      <th>0</th>\n",
       "      <td>zero</td>\n",
       "      <td>31953</td>\n",
       "      <td>0</td>\n",
       "      <td>6</td>\n",
       "      <td>313378</td>\n",
       "      <td>161</td>\n",
       "      <td>0</td>\n",
       "      <td>4</td>\n",
       "      <td>unsat</td>\n",
       "      <td>little</td>\n",
       "      <td>no</td>\n",
       "      <td>1</td>\n",
       "    </tr>\n",
       "    <tr>\n",
       "      <th>1</th>\n",
       "      <td>one</td>\n",
       "      <td>36147</td>\n",
       "      <td>0</td>\n",
       "      <td>13</td>\n",
       "      <td>800586</td>\n",
       "      <td>244</td>\n",
       "      <td>0</td>\n",
       "      <td>6</td>\n",
       "      <td>unsat</td>\n",
       "      <td>little</td>\n",
       "      <td>considering</td>\n",
       "      <td>1</td>\n",
       "    </tr>\n",
       "    <tr>\n",
       "      <th>2</th>\n",
       "      <td>one</td>\n",
       "      <td>27273</td>\n",
       "      <td>230</td>\n",
       "      <td>0</td>\n",
       "      <td>305049</td>\n",
       "      <td>201</td>\n",
       "      <td>16</td>\n",
       "      <td>15</td>\n",
       "      <td>unsat</td>\n",
       "      <td>very_little</td>\n",
       "      <td>perhaps</td>\n",
       "      <td>1</td>\n",
       "    </tr>\n",
       "    <tr>\n",
       "      <th>3</th>\n",
       "      <td>zero</td>\n",
       "      <td>120070</td>\n",
       "      <td>38</td>\n",
       "      <td>33</td>\n",
       "      <td>788235</td>\n",
       "      <td>780</td>\n",
       "      <td>3</td>\n",
       "      <td>2</td>\n",
       "      <td>unsat</td>\n",
       "      <td>very_high</td>\n",
       "      <td>considering</td>\n",
       "      <td>0</td>\n",
       "    </tr>\n",
       "    <tr>\n",
       "      <th>4</th>\n",
       "      <td>one</td>\n",
       "      <td>29215</td>\n",
       "      <td>208</td>\n",
       "      <td>85</td>\n",
       "      <td>224784</td>\n",
       "      <td>241</td>\n",
       "      <td>21</td>\n",
       "      <td>1</td>\n",
       "      <td>very_unsat</td>\n",
       "      <td>little</td>\n",
       "      <td>never_thought</td>\n",
       "      <td>1</td>\n",
       "    </tr>\n",
       "  </tbody>\n",
       "</table>\n",
       "</div>"
      ],
      "text/plain": [
       "  COLLEGE  INCOME  OVERAGE  LEFTOVER   HOUSE  HANDSET_PRICE  \\\n",
       "0    zero   31953        0         6  313378            161   \n",
       "1     one   36147        0        13  800586            244   \n",
       "2     one   27273      230         0  305049            201   \n",
       "3    zero  120070       38        33  788235            780   \n",
       "4     one   29215      208        85  224784            241   \n",
       "\n",
       "   OVER_15MINS_CALLS_PER_MONTH  AVERAGE_CALL_DURATION REPORTED_SATISFACTION  \\\n",
       "0                            0                      4                 unsat   \n",
       "1                            0                      6                 unsat   \n",
       "2                           16                     15                 unsat   \n",
       "3                            3                      2                 unsat   \n",
       "4                           21                      1            very_unsat   \n",
       "\n",
       "  REPORTED_USAGE_LEVEL CONSIDERING_CHANGE_OF_PLAN  LEAVE  \n",
       "0               little                         no      1  \n",
       "1               little                considering      1  \n",
       "2          very_little                    perhaps      1  \n",
       "3            very_high                considering      0  \n",
       "4               little              never_thought      1  "
      ]
     },
     "execution_count": 2,
     "metadata": {},
     "output_type": "execute_result"
    }
   ],
   "source": [
    "df.head()"
   ]
  },
  {
   "cell_type": "code",
   "execution_count": 3,
   "metadata": {
    "collapsed": true
   },
   "outputs": [],
   "source": [
    "df = pd.read_csv('trainnew.csv')"
   ]
  },
  {
   "cell_type": "code",
   "execution_count": 4,
   "metadata": {},
   "outputs": [
    {
     "name": "stdout",
     "output_type": "stream",
     "text": [
      "18000\n",
      "18000\n"
     ]
    }
   ],
   "source": [
    "# seperating target and features.\n",
    "\n",
    "X = df.iloc[:,:-1].values\n",
    "print(len(X))\n",
    "\n",
    "Y = df.iloc[:,24].values\n",
    "print(len(Y))"
   ]
  },
  {
   "cell_type": "code",
   "execution_count": 5,
   "metadata": {},
   "outputs": [
    {
     "name": "stdout",
     "output_type": "stream",
     "text": [
      "[[ -1.46755845e-06  -2.23342273e-03  -3.52078477e-03   8.47352134e-07\n",
      "   -1.97354284e-04  -5.63446033e-03  -1.14796863e-02   0.00000000e+00\n",
      "    2.63387702e-02   3.43626653e-03   6.14159377e-02   0.00000000e+00\n",
      "    0.00000000e+00   0.00000000e+00   0.00000000e+00   1.21103645e-02\n",
      "    4.89497902e-03   0.00000000e+00   0.00000000e+00   8.46869522e-03\n",
      "    7.55829517e-03   4.59388317e-03  -3.75146926e-04   0.00000000e+00]]\n",
      "(18000, 14)\n"
     ]
    }
   ],
   "source": [
    "#selecting features using feature selection-------------type 2\n",
    "\n",
    "import numpy as np\n",
    "from sklearn import linear_model\n",
    "from sklearn.feature_selection import RFE\n",
    "from sklearn.svm import LinearSVC\n",
    "from sklearn.feature_selection import SelectFromModel\n",
    "\n",
    "lsvc = LinearSVC(C=0.02, penalty=\"l1\", dual=False).fit(X, Y)\n",
    "model = SelectFromModel(lsvc, prefit=True)\n",
    "X_new = model.transform(X)\n",
    "print(lsvc.coef_)\n",
    "print(X_new.shape)"
   ]
  },
  {
   "cell_type": "code",
   "execution_count": 6,
   "metadata": {
    "collapsed": true
   },
   "outputs": [],
   "source": [
    "t=-1200"
   ]
  },
  {
   "cell_type": "code",
   "execution_count": 7,
   "metadata": {},
   "outputs": [
    {
     "name": "stdout",
     "output_type": "stream",
     "text": [
      "0.6025\n",
      "[[-0.00474595 -0.00772638 -0.00092775 -0.01204737 -0.02830202  0.07385797\n",
      "   0.06284015  0.17675238  0.03020517  0.0120256   0.08926205  0.09416006\n",
      "   0.12175869  0.0485499 ]]\n"
     ]
    }
   ],
   "source": [
    "#logistic regression with X_new\n",
    "import numpy as np\n",
    "from sklearn import linear_model\n",
    "X_train = X_new[:t]\n",
    "X_test = X_new[t:]\n",
    "\n",
    "Y_train = Y[:t]\n",
    "Y_test = Y[t:]\n",
    "\n",
    "logreg = linear_model.LogisticRegression(C=1000, penalty = 'l1')\n",
    "\n",
    "# we create an instance of Neighbours Classifier and fit the data.\n",
    "logreg.fit(X_train, Y_train)\n",
    "#Y_Pred = logreg.predict(X)\n",
    "print(logreg.score(X_test,Y_test))\n",
    "#len(Y_Pred)\n",
    "print(logreg.coef_)"
   ]
  },
  {
   "cell_type": "code",
   "execution_count": 8,
   "metadata": {},
   "outputs": [
    {
     "name": "stdout",
     "output_type": "stream",
     "text": [
      "0.6325\n",
      "[[ -3.38515847e-06  -4.96973081e-03  -8.11178330e-03   1.85588245e-06\n",
      "   -4.78494626e-04  -1.32105785e-02  -2.86595885e-02  -5.07559202e-02\n",
      "    1.83793909e-02   1.75563368e-01   3.41922095e-01   1.19253007e-01\n",
      "    1.50509642e-01   1.24034266e-01   1.06562703e-01   1.39680846e-01\n",
      "    1.06441022e-01   8.23013355e-02   8.69536539e-02   1.14617453e-01\n",
      "    1.12586020e-01   1.34325645e-01   6.86469607e-02   1.80597343e-02]]\n"
     ]
    }
   ],
   "source": [
    "#logistic regression with X\n",
    "import numpy as np\n",
    "from sklearn import linear_model\n",
    "X_train = X[:t]\n",
    "X_test = X[t:]\n",
    "\n",
    "Y_train = Y[:t]\n",
    "Y_test = Y[t:]\n",
    "\n",
    "logreg = linear_model.LogisticRegression(C=1000,penalty = 'l1')\n",
    "\n",
    "# we create an instance of Neighbours Classifier and fit the data.\n",
    "logreg.fit(X_train, Y_train)\n",
    "#Y_Pred = logreg.predict(X)\n",
    "print(logreg.score(X_test,Y_test))\n",
    "#len(Y_Pred)\n",
    "print(logreg.coef_)"
   ]
  },
  {
   "cell_type": "code",
   "execution_count": 9,
   "metadata": {},
   "outputs": [
    {
     "name": "stdout",
     "output_type": "stream",
     "text": [
      "0.611666666667\n"
     ]
    }
   ],
   "source": [
    "#decision tree with X_new\n",
    "import numpy as np\n",
    "from sklearn import tree\n",
    "\n",
    "X_train = X_new[:t]\n",
    "X_test = X_new[t:]\n",
    "\n",
    "Y_train = Y[:t]\n",
    "Y_test = Y[t:]\n",
    "\n",
    "disTree = tree.DecisionTreeClassifier(min_samples_split=1000,criterion=\"gini\")\n",
    "\n",
    "# we create an instance of Neighbours Classifier and fit the data.\n",
    "disTree.fit(X_train, Y_train)\n",
    "#print(logreg.score(X,Y))\n",
    "#Y_Pred = disTree.predict(X)\n",
    "print(disTree.score(X_test,Y_test))\n",
    "#len(Y_Pred)\n",
    "#print(disTree.criterion)"
   ]
  },
  {
   "cell_type": "code",
   "execution_count": 13,
   "metadata": {},
   "outputs": [
    {
     "name": "stdout",
     "output_type": "stream",
     "text": [
      "0.720833333333\n"
     ]
    }
   ],
   "source": [
    "#decision tree with X\n",
    "import numpy as np\n",
    "from sklearn import tree\n",
    "\n",
    "X_train = X[:t]\n",
    "X_test = X[t:]\n",
    "\n",
    "Y_train = Y[:t]\n",
    "Y_test = Y[t:]\n",
    "\n",
    "disTree = tree.DecisionTreeClassifier(min_samples_split=518,criterion=\"gini\",\n",
    "                                      max_depth=7,min_samples_leaf=70, min_weight_fraction_leaf =0.0                                     )\n",
    "\n",
    "# we create an instance of Neighbours Classifier and fit the data.\n",
    "disTree.fit(X_train, Y_train)\n",
    "#print(logreg.score(X,Y))\n",
    "#Y_Pred = disTree.predict(X)\n",
    "print(disTree.score(X_test,Y_test))\n",
    "#len(Y_Pred)\n",
    "#print(disTree.criterion)"
   ]
  },
  {
   "cell_type": "code",
   "execution_count": 14,
   "metadata": {
    "collapsed": true
   },
   "outputs": [],
   "source": [
    "#Createing usable test file\n",
    "df = pd.read_csv('test.csv')\n",
    "test = pd.get_dummies(df)\n",
    "test = test[['INCOME', 'OVERAGE', 'LEFTOVER', 'HOUSE', 'HANDSET_PRICE',\n",
    "       'OVER_15MINS_CALLS_PER_MONTH', 'AVERAGE_CALL_DURATION',\n",
    "       'COLLEGE_one', 'COLLEGE_zero', 'REPORTED_SATISFACTION_avg',\n",
    "       'REPORTED_SATISFACTION_sat', 'REPORTED_SATISFACTION_unsat',\n",
    "       'REPORTED_SATISFACTION_very_sat', 'REPORTED_SATISFACTION_very_unsat',\n",
    "       'REPORTED_USAGE_LEVEL_avg', 'REPORTED_USAGE_LEVEL_high',\n",
    "       'REPORTED_USAGE_LEVEL_little', 'REPORTED_USAGE_LEVEL_very_high',\n",
    "       'REPORTED_USAGE_LEVEL_very_little',\n",
    "       'CONSIDERING_CHANGE_OF_PLAN_actively_looking_into_it',\n",
    "       'CONSIDERING_CHANGE_OF_PLAN_considering',\n",
    "       'CONSIDERING_CHANGE_OF_PLAN_never_thought',\n",
    "       'CONSIDERING_CHANGE_OF_PLAN_no', 'CONSIDERING_CHANGE_OF_PLAN_perhaps']]\n",
    "\n",
    "test.to_csv('readyToTest.csv', index = False)"
   ]
  },
  {
   "cell_type": "code",
   "execution_count": 15,
   "metadata": {
    "collapsed": true
   },
   "outputs": [],
   "source": [
    "#testfile into memory\n",
    "testFile = pd.read_csv('readyToTest.csv')\n",
    "testFile = testFile.values"
   ]
  },
  {
   "cell_type": "code",
   "execution_count": 16,
   "metadata": {
    "collapsed": true
   },
   "outputs": [],
   "source": [
    "#predicting values\n",
    "#Before predicting run the method which you want to use for Prediction\n",
    "import numpy as np\n",
    "Y_Pred = disTree.predict(testFile)\n",
    "Y_Pred.astype(int)\n",
    "np.savetxt('solution.csv', Y_Pred, delimiter=',')"
   ]
  },
  {
   "cell_type": "code",
   "execution_count": null,
   "metadata": {
    "collapsed": true
   },
   "outputs": [],
   "source": []
  }
 ],
 "metadata": {
  "kernelspec": {
   "display_name": "Python 3",
   "language": "python",
   "name": "python3"
  },
  "language_info": {
   "codemirror_mode": {
    "name": "ipython",
    "version": 3
   },
   "file_extension": ".py",
   "mimetype": "text/x-python",
   "name": "python",
   "nbconvert_exporter": "python",
   "pygments_lexer": "ipython3",
   "version": "3.6.3"
  }
 },
 "nbformat": 4,
 "nbformat_minor": 2
}
