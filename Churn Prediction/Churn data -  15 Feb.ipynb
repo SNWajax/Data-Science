{
 "cells": [
  {
   "cell_type": "code",
   "execution_count": 13,
   "metadata": {
    "collapsed": true
   },
   "outputs": [],
   "source": [
    "#do this only once\n",
    "import pandas as pd\n",
    "\n",
    "df = pd.read_csv('train.csv')\n",
    "dd = pd.get_dummies(df)\n",
    "dd.columns\n",
    "dd = dd[['INCOME', 'OVERAGE', 'LEFTOVER', 'HOUSE', 'HANDSET_PRICE',\n",
    "       'OVER_15MINS_CALLS_PER_MONTH', 'AVERAGE_CALL_DURATION',\n",
    "       'COLLEGE_one', 'COLLEGE_zero', 'REPORTED_SATISFACTION_avg',\n",
    "       'REPORTED_SATISFACTION_sat', 'REPORTED_SATISFACTION_unsat',\n",
    "       'REPORTED_SATISFACTION_very_sat', 'REPORTED_SATISFACTION_very_unsat',\n",
    "       'REPORTED_USAGE_LEVEL_avg', 'REPORTED_USAGE_LEVEL_high',\n",
    "       'REPORTED_USAGE_LEVEL_little', 'REPORTED_USAGE_LEVEL_very_high',\n",
    "       'REPORTED_USAGE_LEVEL_very_little',\n",
    "       'CONSIDERING_CHANGE_OF_PLAN_actively_looking_into_it',\n",
    "       'CONSIDERING_CHANGE_OF_PLAN_considering',\n",
    "       'CONSIDERING_CHANGE_OF_PLAN_never_thought',\n",
    "       'CONSIDERING_CHANGE_OF_PLAN_no', 'CONSIDERING_CHANGE_OF_PLAN_perhaps', 'LEAVE']]\n",
    "\n",
    "dd.to_csv('trainnew.csv', index = False)"
   ]
  },
  {
   "cell_type": "code",
   "execution_count": 14,
   "metadata": {
    "collapsed": true
   },
   "outputs": [],
   "source": [
    "df = pd.read_csv('trainnew.csv')"
   ]
  },
  {
   "cell_type": "code",
   "execution_count": 15,
   "metadata": {},
   "outputs": [
    {
     "name": "stdout",
     "output_type": "stream",
     "text": [
      "18000\n",
      "18000\n"
     ]
    }
   ],
   "source": [
    "# seperating target and features.\n",
    "\n",
    "X = df.iloc[:,:-1].values\n",
    "print(len(X))\n",
    "\n",
    "Y = df.iloc[:,24].values\n",
    "print(len(Y))"
   ]
  },
  {
   "cell_type": "code",
   "execution_count": 156,
   "metadata": {},
   "outputs": [
    {
     "ename": "ValueError",
     "evalue": "Input X must be non-negative.",
     "output_type": "error",
     "traceback": [
      "\u001b[1;31m---------------------------------------------------------------------------\u001b[0m",
      "\u001b[1;31mValueError\u001b[0m                                Traceback (most recent call last)",
      "\u001b[1;32m<ipython-input-156-f96dbd3da462>\u001b[0m in \u001b[0;36m<module>\u001b[1;34m()\u001b[0m\n\u001b[0;32m      4\u001b[0m \u001b[1;32mfrom\u001b[0m \u001b[0msklearn\u001b[0m\u001b[1;33m.\u001b[0m\u001b[0mfeature_selection\u001b[0m \u001b[1;32mimport\u001b[0m \u001b[0mchi2\u001b[0m\u001b[1;33m\u001b[0m\u001b[0m\n\u001b[0;32m      5\u001b[0m \u001b[1;33m\u001b[0m\u001b[0m\n\u001b[1;32m----> 6\u001b[1;33m \u001b[0mX_new\u001b[0m \u001b[1;33m=\u001b[0m \u001b[0mSelectKBest\u001b[0m\u001b[1;33m(\u001b[0m\u001b[0mchi2\u001b[0m\u001b[1;33m,\u001b[0m \u001b[0mk\u001b[0m\u001b[1;33m=\u001b[0m\u001b[1;36m2\u001b[0m\u001b[1;33m)\u001b[0m\u001b[1;33m.\u001b[0m\u001b[0mfit_transform\u001b[0m\u001b[1;33m(\u001b[0m\u001b[0mX\u001b[0m\u001b[1;33m,\u001b[0m \u001b[0mY\u001b[0m\u001b[1;33m)\u001b[0m\u001b[1;33m\u001b[0m\u001b[0m\n\u001b[0m\u001b[0;32m      7\u001b[0m \u001b[0mX_new\u001b[0m\u001b[1;33m.\u001b[0m\u001b[0mshape\u001b[0m\u001b[1;33m\u001b[0m\u001b[0m\n",
      "\u001b[1;32mD:\\softwares\\anaconda\\lib\\site-packages\\sklearn\\base.py\u001b[0m in \u001b[0;36mfit_transform\u001b[1;34m(self, X, y, **fit_params)\u001b[0m\n\u001b[0;32m    495\u001b[0m         \u001b[1;32melse\u001b[0m\u001b[1;33m:\u001b[0m\u001b[1;33m\u001b[0m\u001b[0m\n\u001b[0;32m    496\u001b[0m             \u001b[1;31m# fit method of arity 2 (supervised transformation)\u001b[0m\u001b[1;33m\u001b[0m\u001b[1;33m\u001b[0m\u001b[0m\n\u001b[1;32m--> 497\u001b[1;33m             \u001b[1;32mreturn\u001b[0m \u001b[0mself\u001b[0m\u001b[1;33m.\u001b[0m\u001b[0mfit\u001b[0m\u001b[1;33m(\u001b[0m\u001b[0mX\u001b[0m\u001b[1;33m,\u001b[0m \u001b[0my\u001b[0m\u001b[1;33m,\u001b[0m \u001b[1;33m**\u001b[0m\u001b[0mfit_params\u001b[0m\u001b[1;33m)\u001b[0m\u001b[1;33m.\u001b[0m\u001b[0mtransform\u001b[0m\u001b[1;33m(\u001b[0m\u001b[0mX\u001b[0m\u001b[1;33m)\u001b[0m\u001b[1;33m\u001b[0m\u001b[0m\n\u001b[0m\u001b[0;32m    498\u001b[0m \u001b[1;33m\u001b[0m\u001b[0m\n\u001b[0;32m    499\u001b[0m \u001b[1;33m\u001b[0m\u001b[0m\n",
      "\u001b[1;32mD:\\softwares\\anaconda\\lib\\site-packages\\sklearn\\feature_selection\\univariate_selection.py\u001b[0m in \u001b[0;36mfit\u001b[1;34m(self, X, y)\u001b[0m\n\u001b[0;32m    328\u001b[0m \u001b[1;33m\u001b[0m\u001b[0m\n\u001b[0;32m    329\u001b[0m         \u001b[0mself\u001b[0m\u001b[1;33m.\u001b[0m\u001b[0m_check_params\u001b[0m\u001b[1;33m(\u001b[0m\u001b[0mX\u001b[0m\u001b[1;33m,\u001b[0m \u001b[0my\u001b[0m\u001b[1;33m)\u001b[0m\u001b[1;33m\u001b[0m\u001b[0m\n\u001b[1;32m--> 330\u001b[1;33m         \u001b[0mscore_func_ret\u001b[0m \u001b[1;33m=\u001b[0m \u001b[0mself\u001b[0m\u001b[1;33m.\u001b[0m\u001b[0mscore_func\u001b[0m\u001b[1;33m(\u001b[0m\u001b[0mX\u001b[0m\u001b[1;33m,\u001b[0m \u001b[0my\u001b[0m\u001b[1;33m)\u001b[0m\u001b[1;33m\u001b[0m\u001b[0m\n\u001b[0m\u001b[0;32m    331\u001b[0m         \u001b[1;32mif\u001b[0m \u001b[0misinstance\u001b[0m\u001b[1;33m(\u001b[0m\u001b[0mscore_func_ret\u001b[0m\u001b[1;33m,\u001b[0m \u001b[1;33m(\u001b[0m\u001b[0mlist\u001b[0m\u001b[1;33m,\u001b[0m \u001b[0mtuple\u001b[0m\u001b[1;33m)\u001b[0m\u001b[1;33m)\u001b[0m\u001b[1;33m:\u001b[0m\u001b[1;33m\u001b[0m\u001b[0m\n\u001b[0;32m    332\u001b[0m             \u001b[0mself\u001b[0m\u001b[1;33m.\u001b[0m\u001b[0mscores_\u001b[0m\u001b[1;33m,\u001b[0m \u001b[0mself\u001b[0m\u001b[1;33m.\u001b[0m\u001b[0mpvalues_\u001b[0m \u001b[1;33m=\u001b[0m \u001b[0mscore_func_ret\u001b[0m\u001b[1;33m\u001b[0m\u001b[0m\n",
      "\u001b[1;32mD:\\softwares\\anaconda\\lib\\site-packages\\sklearn\\feature_selection\\univariate_selection.py\u001b[0m in \u001b[0;36mchi2\u001b[1;34m(X, y)\u001b[0m\n\u001b[0;32m    213\u001b[0m     \u001b[0mX\u001b[0m \u001b[1;33m=\u001b[0m \u001b[0mcheck_array\u001b[0m\u001b[1;33m(\u001b[0m\u001b[0mX\u001b[0m\u001b[1;33m,\u001b[0m \u001b[0maccept_sparse\u001b[0m\u001b[1;33m=\u001b[0m\u001b[1;34m'csr'\u001b[0m\u001b[1;33m)\u001b[0m\u001b[1;33m\u001b[0m\u001b[0m\n\u001b[0;32m    214\u001b[0m     \u001b[1;32mif\u001b[0m \u001b[0mnp\u001b[0m\u001b[1;33m.\u001b[0m\u001b[0many\u001b[0m\u001b[1;33m(\u001b[0m\u001b[1;33m(\u001b[0m\u001b[0mX\u001b[0m\u001b[1;33m.\u001b[0m\u001b[0mdata\u001b[0m \u001b[1;32mif\u001b[0m \u001b[0missparse\u001b[0m\u001b[1;33m(\u001b[0m\u001b[0mX\u001b[0m\u001b[1;33m)\u001b[0m \u001b[1;32melse\u001b[0m \u001b[0mX\u001b[0m\u001b[1;33m)\u001b[0m \u001b[1;33m<\u001b[0m \u001b[1;36m0\u001b[0m\u001b[1;33m)\u001b[0m\u001b[1;33m:\u001b[0m\u001b[1;33m\u001b[0m\u001b[0m\n\u001b[1;32m--> 215\u001b[1;33m         \u001b[1;32mraise\u001b[0m \u001b[0mValueError\u001b[0m\u001b[1;33m(\u001b[0m\u001b[1;34m\"Input X must be non-negative.\"\u001b[0m\u001b[1;33m)\u001b[0m\u001b[1;33m\u001b[0m\u001b[0m\n\u001b[0m\u001b[0;32m    216\u001b[0m \u001b[1;33m\u001b[0m\u001b[0m\n\u001b[0;32m    217\u001b[0m     \u001b[0mY\u001b[0m \u001b[1;33m=\u001b[0m \u001b[0mLabelBinarizer\u001b[0m\u001b[1;33m(\u001b[0m\u001b[1;33m)\u001b[0m\u001b[1;33m.\u001b[0m\u001b[0mfit_transform\u001b[0m\u001b[1;33m(\u001b[0m\u001b[0my\u001b[0m\u001b[1;33m)\u001b[0m\u001b[1;33m\u001b[0m\u001b[0m\n",
      "\u001b[1;31mValueError\u001b[0m: Input X must be non-negative."
     ]
    }
   ],
   "source": [
    "#selecting features using feature selection-------------type 1 (univariate feature selection-Not working)\n",
    "\n",
    "from sklearn.feature_selection import SelectKBest\n",
    "from sklearn.feature_selection import chi2\n",
    "\n",
    "X_new = SelectKBest(chi2, k=2).fit_transform(X, Y)\n",
    "X_new.shape\n"
   ]
  },
  {
   "cell_type": "code",
   "execution_count": 166,
   "metadata": {},
   "outputs": [
    {
     "data": {
      "text/plain": [
       "24"
      ]
     },
     "execution_count": 166,
     "metadata": {},
     "output_type": "execute_result"
    }
   ],
   "source": [
    "#selecting features using feature selection-------------type 2 ( Removing features with low variance -Not working)\n",
    "\n",
    "from sklearn.feature_selection import VarianceThreshold\n",
    "sel = VarianceThreshold(threshold=(0))\n",
    "sel.fit_transform(X)\n",
    "len(X[0])"
   ]
  },
  {
   "cell_type": "code",
   "execution_count": null,
   "metadata": {
    "collapsed": true
   },
   "outputs": [],
   "source": [
    "#selecting features using feature selection-------------type 3 ( Recursive feature elimination)\n",
    "\n",
    "from sklearn.feature_selection import RFE\n",
    "from sklearn.svm import SVR\n",
    "\n",
    "estimator = SVR(kernel=\"linear\")\n",
    "selector = RFE(estimator, 5, step=1)\n",
    "selector = selector.fit(X, Y)\n",
    "selector\n"
   ]
  },
  {
   "cell_type": "code",
   "execution_count": 16,
   "metadata": {},
   "outputs": [
    {
     "name": "stdout",
     "output_type": "stream",
     "text": [
      "[[ -1.46251886e-06  -2.23178183e-03  -3.50432111e-03   8.48396054e-07\n",
      "   -1.97237152e-04  -5.63448085e-03  -1.13695929e-02   0.00000000e+00\n",
      "    2.64130082e-02   3.55089343e-03   6.14121155e-02   0.00000000e+00\n",
      "    0.00000000e+00   0.00000000e+00   0.00000000e+00   1.23873926e-02\n",
      "    5.16789927e-03   0.00000000e+00   0.00000000e+00   9.24640234e-03\n",
      "    8.38761042e-03   5.43330067e-03   0.00000000e+00   0.00000000e+00]]\n",
      "(18000, 13)\n"
     ]
    }
   ],
   "source": [
    "#selecting features using feature selection-------------type 2\n",
    "\n",
    "import numpy as np\n",
    "from sklearn import linear_model\n",
    "from sklearn.feature_selection import RFE\n",
    "from sklearn.svm import LinearSVC\n",
    "from sklearn.feature_selection import SelectFromModel\n",
    "\n",
    "lsvc = LinearSVC(C=0.02, penalty=\"l1\", dual=False).fit(X, Y)\n",
    "model = SelectFromModel(lsvc, prefit=True)\n",
    "X_new = model.transform(X)\n",
    "print(lsvc.coef_)\n",
    "print(X_new.shape)"
   ]
  },
  {
   "cell_type": "code",
   "execution_count": 6,
   "metadata": {
    "collapsed": true
   },
   "outputs": [],
   "source": [
    "t=-1200"
   ]
  },
  {
   "cell_type": "code",
   "execution_count": 123,
   "metadata": {},
   "outputs": [
    {
     "name": "stdout",
     "output_type": "stream",
     "text": [
      "0.6025\n",
      "[[-0.00474513 -0.00772007 -0.00092725 -0.01204772 -0.02826198  0.07396603\n",
      "   0.06290921  0.17681698  0.03022257  0.01211317  0.09057444  0.09547411\n",
      "   0.12307093  0.04986123]]\n"
     ]
    }
   ],
   "source": [
    "#logistic regression with X_new\n",
    "import numpy as np\n",
    "from sklearn import linear_model\n",
    "X_train = X_new[:t]\n",
    "X_test = X_new[t:]\n",
    "\n",
    "Y_train = Y[:t]\n",
    "Y_test = Y[t:]\n",
    "\n",
    "logreg = linear_model.LogisticRegression(C=1000, penalty = 'l1')\n",
    "\n",
    "# we create an instance of Neighbours Classifier and fit the data.\n",
    "logreg.fit(X_train, Y_train)\n",
    "#Y_Pred = logreg.predict(X)\n",
    "print(logreg.score(X_test,Y_test))\n",
    "#len(Y_Pred)\n",
    "print(logreg.coef_)"
   ]
  },
  {
   "cell_type": "code",
   "execution_count": 32,
   "metadata": {},
   "outputs": [
    {
     "name": "stdout",
     "output_type": "stream",
     "text": [
      "0.6325\n",
      "[[ -3.38451147e-06  -4.96977867e-03  -8.11185386e-03   1.85592451e-06\n",
      "   -4.78655811e-04  -1.32105144e-02  -2.86613150e-02   2.83186101e-02\n",
      "    9.74529961e-02   2.78887944e-01   4.45250866e-01   2.22578714e-01\n",
      "    2.53835883e-01   2.27363044e-01  -8.15291110e-03   2.49660201e-02\n",
      "   -8.27623627e-03  -3.24155312e-02  -2.77618101e-02   2.33147438e-01\n",
      "    2.31119553e-01   2.52856744e-01   1.87180256e-01   1.36591531e-01]]\n"
     ]
    }
   ],
   "source": [
    "#logistic regression with X\n",
    "import numpy as np\n",
    "from sklearn import linear_model\n",
    "X_train = X[:t]\n",
    "X_test = X[t:]\n",
    "\n",
    "Y_train = Y[:t]\n",
    "Y_test = Y[t:]\n",
    "\n",
    "logreg = linear_model.LogisticRegression(C=1000,penalty = 'l1')\n",
    "\n",
    "# we create an instance of Neighbours Classifier and fit the data.\n",
    "logreg.fit(X_train, Y_train)\n",
    "#Y_Pred = logreg.predict(X)\n",
    "print(logreg.score(X_test,Y_test))\n",
    "#len(Y_Pred)\n",
    "print(logreg.coef_)"
   ]
  },
  {
   "cell_type": "code",
   "execution_count": 18,
   "metadata": {},
   "outputs": [
    {
     "name": "stdout",
     "output_type": "stream",
     "text": [
      "0.611666666667\n"
     ]
    }
   ],
   "source": [
    "#decision tree with X_new\n",
    "import numpy as np\n",
    "from sklearn import tree\n",
    "\n",
    "X_train = X_new[:t]\n",
    "X_test = X_new[t:]\n",
    "\n",
    "Y_train = Y[:t]\n",
    "Y_test = Y[t:]\n",
    "\n",
    "disTree = tree.DecisionTreeClassifier(min_samples_split=1000,criterion=\"gini\")\n",
    "\n",
    "# we create an instance of Neighbours Classifier and fit the data.\n",
    "disTree.fit(X_train, Y_train)\n",
    "#print(logreg.score(X,Y))\n",
    "#Y_Pred = disTree.predict(X)\n",
    "print(disTree.score(X_test,Y_test))\n",
    "#len(Y_Pred)\n",
    "#print(disTree.criterion)"
   ]
  },
  {
   "cell_type": "code",
   "execution_count": 56,
   "metadata": {},
   "outputs": [
    {
     "name": "stdout",
     "output_type": "stream",
     "text": [
      "0.718333333333\n"
     ]
    }
   ],
   "source": [
    "#decision tree with X\n",
    "import numpy as np\n",
    "from sklearn import tree\n",
    "\n",
    "X_train = X[:t]\n",
    "X_test = X[t:]\n",
    "\n",
    "Y_train = Y[:t]\n",
    "Y_test = Y[t:]\n",
    "\n",
    "disTree = tree.DecisionTreeClassifier(min_samples_split=1000,criterion=\"gini\",max_depth=7,min_samples_leaf=147)\n",
    "\n",
    "# we create an instance of Neighbours Classifier and fit the data.\n",
    "disTree.fit(X_train, Y_train)\n",
    "#print(logreg.score(X,Y))\n",
    "#Y_Pred = disTree.predict(X)\n",
    "print(disTree.score(X_test,Y_test))\n",
    "#len(Y_Pred)\n",
    "#print(disTree.criterion)"
   ]
  },
  {
   "cell_type": "code",
   "execution_count": 8,
   "metadata": {
    "collapsed": true
   },
   "outputs": [],
   "source": [
    "#Createing usable test file\n",
    "df = pd.read_csv('test.csv')\n",
    "test = pd.get_dummies(df)\n",
    "test = test[['INCOME', 'OVERAGE', 'LEFTOVER', 'HOUSE', 'HANDSET_PRICE',\n",
    "       'OVER_15MINS_CALLS_PER_MONTH', 'AVERAGE_CALL_DURATION',\n",
    "       'COLLEGE_one', 'COLLEGE_zero', 'REPORTED_SATISFACTION_avg',\n",
    "       'REPORTED_SATISFACTION_sat', 'REPORTED_SATISFACTION_unsat',\n",
    "       'REPORTED_SATISFACTION_very_sat', 'REPORTED_SATISFACTION_very_unsat',\n",
    "       'REPORTED_USAGE_LEVEL_avg', 'REPORTED_USAGE_LEVEL_high',\n",
    "       'REPORTED_USAGE_LEVEL_little', 'REPORTED_USAGE_LEVEL_very_high',\n",
    "       'REPORTED_USAGE_LEVEL_very_little',\n",
    "       'CONSIDERING_CHANGE_OF_PLAN_actively_looking_into_it',\n",
    "       'CONSIDERING_CHANGE_OF_PLAN_considering',\n",
    "       'CONSIDERING_CHANGE_OF_PLAN_never_thought',\n",
    "       'CONSIDERING_CHANGE_OF_PLAN_no', 'CONSIDERING_CHANGE_OF_PLAN_perhaps']]\n",
    "\n",
    "test.to_csv('readyToTest.csv', index = False)"
   ]
  },
  {
   "cell_type": "code",
   "execution_count": 9,
   "metadata": {},
   "outputs": [],
   "source": [
    "#testfile into memory\n",
    "testFile = pd.read_csv('readyToTest.csv')\n",
    "testFile = testFile.values"
   ]
  },
  {
   "cell_type": "code",
   "execution_count": 11,
   "metadata": {},
   "outputs": [],
   "source": [
    "#predicting values\n",
    "#Before predicting run the method which you want to use for Prediction\n",
    "import numpy as np\n",
    "Y_Pred = disTree.predict(testFile)\n",
    "Y_Pred.astype(int)\n",
    "np.savetxt('solution.csv', Y_Pred, delimiter=',')"
   ]
  },
  {
   "cell_type": "code",
   "execution_count": null,
   "metadata": {
    "collapsed": true
   },
   "outputs": [],
   "source": []
  }
 ],
 "metadata": {
  "kernelspec": {
   "display_name": "Python 3",
   "language": "python",
   "name": "python3"
  },
  "language_info": {
   "codemirror_mode": {
    "name": "ipython",
    "version": 3
   },
   "file_extension": ".py",
   "mimetype": "text/x-python",
   "name": "python",
   "nbconvert_exporter": "python",
   "pygments_lexer": "ipython3",
   "version": "3.6.1"
  }
 },
 "nbformat": 4,
 "nbformat_minor": 2
}
